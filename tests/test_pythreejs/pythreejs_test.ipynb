{
 "cells": [
  {
   "cell_type": "code",
   "execution_count": 2,
   "metadata": {},
   "outputs": [
    {
     "name": "stdout",
     "output_type": "stream",
     "text": [
      "The autoreload extension is already loaded. To reload it, use:\n",
      "  %reload_ext autoreload\n"
     ]
    }
   ],
   "source": [
    "%load_ext autoreload\n",
    "%autoreload 2\n",
    "from pymatgen import MPRester\n",
    "from crystal_toolkit.helpers.pythreejs_renderer import view\n",
    "struct = MPRester().get_structure_by_material_id('mp-11104')"
   ]
  },
  {
   "cell_type": "code",
   "execution_count": 3,
   "metadata": {},
   "outputs": [
    {
     "ename": "AttributeError",
     "evalue": "type object 'StructureMoleculeComponent' has no attribute '_get_display_radii_for_sites'",
     "output_type": "error",
     "traceback": [
      "\u001b[0;31m---------------------------------------------------------------------------\u001b[0m",
      "\u001b[0;31mAttributeError\u001b[0m                            Traceback (most recent call last)",
      "\u001b[0;32m<ipython-input-3-6db149589fad>\u001b[0m in \u001b[0;36m<module>\u001b[0;34m\u001b[0m\n\u001b[0;32m----> 1\u001b[0;31m \u001b[0mview\u001b[0m\u001b[0;34m(\u001b[0m\u001b[0mstruct\u001b[0m\u001b[0;34m)\u001b[0m\u001b[0;34m\u001b[0m\u001b[0;34m\u001b[0m\u001b[0m\n\u001b[0m",
      "\u001b[0;32m~/repos/js_mp/crystaltoolkit/crystal_toolkit/helpers/pythreejs_renderer.py\u001b[0m in \u001b[0;36mview\u001b[0;34m(renderable_obj, **kwargs)\u001b[0m\n\u001b[1;32m    130\u001b[0m         \u001b[0mkwargs\u001b[0m\u001b[0;34m[\u001b[0m\u001b[0;34m'explicitly_calculate_polyhedra_hull'\u001b[0m\u001b[0;34m]\u001b[0m \u001b[0;34m=\u001b[0m \u001b[0;32mTrue\u001b[0m\u001b[0;34m\u001b[0m\u001b[0;34m\u001b[0m\u001b[0m\n\u001b[1;32m    131\u001b[0m \u001b[0;34m\u001b[0m\u001b[0m\n\u001b[0;32m--> 132\u001b[0;31m     \u001b[0mdisplay_scene\u001b[0m\u001b[0;34m(\u001b[0m\u001b[0mrenderable_obj\u001b[0m\u001b[0;34m.\u001b[0m\u001b[0mget_scene\u001b[0m\u001b[0;34m(\u001b[0m\u001b[0;34m**\u001b[0m\u001b[0mkwargs\u001b[0m\u001b[0;34m)\u001b[0m\u001b[0;34m)\u001b[0m\u001b[0;34m\u001b[0m\u001b[0;34m\u001b[0m\u001b[0m\n\u001b[0m\u001b[1;32m    133\u001b[0m \u001b[0;34m\u001b[0m\u001b[0m\n\u001b[1;32m    134\u001b[0m \u001b[0;32mdef\u001b[0m \u001b[0mview_old\u001b[0m\u001b[0;34m(\u001b[0m\u001b[0mmolecule_or_structure\u001b[0m\u001b[0;34m,\u001b[0m \u001b[0;34m**\u001b[0m\u001b[0mkwargs\u001b[0m\u001b[0;34m)\u001b[0m\u001b[0;34m:\u001b[0m\u001b[0;34m\u001b[0m\u001b[0;34m\u001b[0m\u001b[0m\n",
      "\u001b[0;32m~/repos/js_mp/crystaltoolkit/crystal_toolkit/renderables/structure.py\u001b[0m in \u001b[0;36mget_scene_from_structure\u001b[0;34m(self, bonding_strategy, bonding_strategy_kwargs, **kwargs)\u001b[0m\n\u001b[1;32m      9\u001b[0m                              \u001b[0mbonding_strategy_kwargs\u001b[0m\u001b[0;34m=\u001b[0m \u001b[0;32mNone\u001b[0m\u001b[0;34m,\u001b[0m\u001b[0;34m\u001b[0m\u001b[0;34m\u001b[0m\u001b[0m\n\u001b[1;32m     10\u001b[0m                              **kwargs):\n\u001b[0;32m---> 11\u001b[0;31m     \u001b[0mradii\u001b[0m \u001b[0;34m=\u001b[0m \u001b[0mSMC\u001b[0m\u001b[0;34m.\u001b[0m\u001b[0m_get_display_radii_for_sites\u001b[0m\u001b[0;34m(\u001b[0m\u001b[0mself\u001b[0m\u001b[0;34m,\u001b[0m \u001b[0mradius_strategy\u001b[0m\u001b[0;34m=\u001b[0m\u001b[0;34m'uniform'\u001b[0m\u001b[0;34m)\u001b[0m\u001b[0;34m\u001b[0m\u001b[0;34m\u001b[0m\u001b[0m\n\u001b[0m\u001b[1;32m     12\u001b[0m     colors, legend = SMC._get_display_colors_and_legend_for_sites(\n\u001b[1;32m     13\u001b[0m         self, {}, color_scheme=\"VESTA\")\n",
      "\u001b[0;31mAttributeError\u001b[0m: type object 'StructureMoleculeComponent' has no attribute '_get_display_radii_for_sites'"
     ]
    }
   ],
   "source": [
    "view(struct)"
   ]
  },
  {
   "cell_type": "code",
   "execution_count": null,
   "metadata": {},
   "outputs": [],
   "source": []
  },
  {
   "cell_type": "code",
   "execution_count": null,
   "metadata": {},
   "outputs": [],
   "source": []
  }
 ],
 "metadata": {
  "kernelspec": {
   "display_name": "Python 3",
   "language": "python",
   "name": "python3"
  }
 },
 "nbformat": 4,
 "nbformat_minor": 2
}
