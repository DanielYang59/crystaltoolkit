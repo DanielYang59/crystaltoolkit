{
 "cells": [
  {
   "cell_type": "code",
   "execution_count": 1,
   "metadata": {},
   "outputs": [],
   "source": [
    "%load_ext autoreload\n",
    "%autoreload 2\n",
    "from pymatgen import MPRester\n",
    "from crystal_toolkit.components.structure import StructureMoleculeComponent\n",
    "from crystal_toolkit import display_struct\n",
    "struct = MPRester().get_structure_by_material_id('mp-2814')"
   ]
  },
  {
   "cell_type": "code",
   "execution_count": 2,
   "metadata": {},
   "outputs": [
    {
     "name": "stderr",
     "output_type": "stream",
     "text": [
      "/Users/lik/repos/js_mp/crystaltoolkit/crystal_toolkit/components/core.py:88: UserWarning:\n",
      "\n",
      "No app defined for component StructureMoleculeComponent, callbacks cannot be created. Please register app using MPComponent.register_app(app).\n",
      "\n",
      "/Users/lik/repos/js_mp/crystaltoolkit/crystal_toolkit/components/core.py:95: UserWarning:\n",
      "\n",
      "No cache is defined for component StructureMoleculeComponent, performance of app may be degraded. Please register cache using MPComponent.register_cache(cache).\n",
      "\n",
      "/Users/lik/repos/js_mp/crystaltoolkit/crystal_toolkit/components/core.py:39: UserWarning:\n",
      "\n",
      "Caching has not been set up, app performance may be degraded.\n",
      "\n",
      "/Users/lik/repos/js_mp/pymatgen/pymatgen/analysis/local_env.py:3547: UserWarning:\n",
      "\n",
      "CrystalNN: distance cutoffs set but no oxidation states specified on sites! For better results, set the site oxidation states in the structure.\n",
      "\n",
      "/Users/lik/repos/js_mp/pymatgen/pymatgen/analysis/local_env.py:3362: UserWarning:\n",
      "\n",
      "CrystalNN: cannot locate an appropriate radius, covalent or atomic radii will be used, this can lead to non-optimal results.\n",
      "\n"
     ]
    },
    {
     "data": {
      "application/vnd.jupyter.widget-view+json": {
       "model_id": "7f150a27217845e7ba057a639915a10c",
       "version_major": 2,
       "version_minor": 0
      },
      "text/plain": [
       "Renderer(camera=OrthographicCamera(bottom=-9.276244830572661, far=4000.0, left=-9.276244830572661, near=-4000.…"
      ]
     },
     "metadata": {},
     "output_type": "display_data"
    }
   ],
   "source": [
    "display_struct(struct)"
   ]
  },
  {
   "cell_type": "code",
   "execution_count": null,
   "metadata": {},
   "outputs": [],
   "source": []
  },
  {
   "cell_type": "code",
   "execution_count": null,
   "metadata": {},
   "outputs": [],
   "source": []
  }
 ],
 "metadata": {
  "kernelspec": {
   "display_name": "Python 3",
   "language": "python",
   "name": "python3"
  },
  "language_info": {
   "codemirror_mode": {
    "name": "ipython",
    "version": 3
   },
   "file_extension": ".py",
   "mimetype": "text/x-python",
   "name": "python",
   "nbconvert_exporter": "python",
   "pygments_lexer": "ipython3",
   "version": "3.6.7"
  }
 },
 "nbformat": 4,
 "nbformat_minor": 2
}
