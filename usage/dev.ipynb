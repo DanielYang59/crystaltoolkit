{
 "cells": [
  {
   "cell_type": "code",
   "execution_count": 3,
   "metadata": {},
   "outputs": [
    {
     "name": "stdout",
     "output_type": "stream",
     "text": [
      "The autoreload extension is already loaded. To reload it, use:\n",
      "  %reload_ext autoreload\n"
     ]
    }
   ],
   "source": [
    "%load_ext autoreload\n",
    "%autoreload 2\n",
    "\n",
    "import crystal_toolkit.renderables.structure\n",
    "import crystal_toolkit.renderables.volumetric\n",
    "from crystal_toolkit.helpers.pythreejs_renderer import display_scene, view\n",
    "\n",
    "from pymatgen import MPRester\n",
    "from pymatgen.io.vasp import Chgcar"
   ]
  },
  {
   "cell_type": "code",
   "execution_count": 2,
   "metadata": {},
   "outputs": [],
   "source": [
    "from crystal_toolkit.components.structure import StructureMoleculeComponent"
   ]
  },
  {
   "cell_type": "code",
   "execution_count": 15,
   "metadata": {},
   "outputs": [
    {
     "name": "stderr",
     "output_type": "stream",
     "text": [
      "/Users/lik/repos/js_mp/pymatgen/pymatgen/analysis/local_env.py:3558: UserWarning:\n",
      "\n",
      "CrystalNN: distance cutoffs set but no oxidation states specified on sites! For better results, set the site oxidation states in the structure.\n",
      "\n",
      "/Users/lik/repos/js_mp/pymatgen/pymatgen/analysis/local_env.py:3373: UserWarning:\n",
      "\n",
      "CrystalNN: cannot locate an appropriate radius, covalent or atomic radii will be used, this can lead to non-optimal results.\n",
      "\n",
      "/Users/lik/repos/js_mp/crystaltoolkit/crystal_toolkit/helpers/pythreejs_renderer.py:121: UserWarning:\n",
      "\n",
      "Primitive type convex has not been implemented for this renderer.\n",
      "\n"
     ]
    },
    {
     "data": {
      "application/vnd.jupyter.widget-view+json": {
       "model_id": "53edc01c45a5406fb56dce1fda3e5093",
       "version_major": 2,
       "version_minor": 0
      },
      "text/plain": [
       "Renderer(background='white', camera=OrthographicCamera(bottom=-14.0148972, left=-14.0148972, near=-2000.0, pos…"
      ]
     },
     "metadata": {},
     "output_type": "display_data"
    }
   ],
   "source": [
    "cc = Chgcar.from_file('/Users/lik/Desktop/chg.vasp')\n",
    "# struct = MPRester().get_structure_by_material_id('mp-814')\n",
    "view(cc, isolvl=30, step_size=10)\n"
   ]
  },
  {
   "cell_type": "code",
   "execution_count": 30,
   "metadata": {},
   "outputs": [],
   "source": [
    "ss = cc.get_scene(isolvl = 3, explicitly_calculate_polyhedra_hull=True, iso_kwargs_dict={'color' : 'yellow'})"
   ]
  },
  {
   "cell_type": "code",
   "execution_count": 4,
   "metadata": {},
   "outputs": [
    {
     "ename": "NameError",
     "evalue": "name 'ss' is not defined",
     "output_type": "error",
     "traceback": [
      "\u001b[0;31m---------------------------------------------------------------------------\u001b[0m",
      "\u001b[0;31mNameError\u001b[0m                                 Traceback (most recent call last)",
      "\u001b[0;32m<ipython-input-4-fe7c8c8437a1>\u001b[0m in \u001b[0;36m<module>\u001b[0;34m\u001b[0m\n\u001b[1;32m      2\u001b[0m \u001b[0;31m# struct = MPRester().get_structure_by_material_id('mp-814')\u001b[0m\u001b[0;34m\u001b[0m\u001b[0;34m\u001b[0m\u001b[0;34m\u001b[0m\u001b[0m\n\u001b[1;32m      3\u001b[0m \u001b[0;31m# ss= struct.get_scene(explicitly_calculate_polyhedra_hull=True)\u001b[0m\u001b[0;34m\u001b[0m\u001b[0;34m\u001b[0m\u001b[0;34m\u001b[0m\u001b[0m\n\u001b[0;32m----> 4\u001b[0;31m \u001b[0mdisplay_scene\u001b[0m\u001b[0;34m(\u001b[0m\u001b[0mss\u001b[0m\u001b[0;34m)\u001b[0m\u001b[0;34m\u001b[0m\u001b[0;34m\u001b[0m\u001b[0m\n\u001b[0m",
      "\u001b[0;31mNameError\u001b[0m: name 'ss' is not defined"
     ]
    }
   ],
   "source": [
    "from crystal_toolkit.helpers.pythreejs_renderer import display_scene\n",
    "# struct = MPRester().get_structure_by_material_id('mp-814')\n",
    "# ss= struct.get_scene(explicitly_calculate_polyhedra_hull=True)\n",
    "display_scene(ss)\n"
   ]
  },
  {
   "cell_type": "code",
   "execution_count": 39,
   "metadata": {},
   "outputs": [
    {
     "data": {
      "application/json": {
       "_meta": null,
       "contents": [
        {
         "_meta": null,
         "contents": [
          {
           "_meta": null,
           "clickable": false,
           "color": "#ffa100",
           "phiEnd": null,
           "phiStart": null,
           "positions": [
            [
             4.70693353,
             3.3283046199999995,
             4.0763240199999995
            ]
           ],
           "radius": 0.5,
           "reference": null,
           "visible": null
          },
          {
           "_meta": null,
           "clickable": false,
           "color": "#ffa100",
           "phiEnd": null,
           "phiStart": null,
           "positions": [
            [
             1.17673338,
             3.3283046199999995,
             2.0381620099999997
            ]
           ],
           "radius": 0.5,
           "reference": null,
           "visible": null
          },
          {
           "_meta": null,
           "clickable": false,
           "color": "#ffa100",
           "phiEnd": null,
           "phiStart": null,
           "positions": [
            [
             -1.1767333800000002,
             -3.32830462,
             -6.114486020000001
            ]
           ],
           "radius": 0.5,
           "reference": null,
           "visible": null
          },
          {
           "_meta": null,
           "clickable": false,
           "color": "#1fffc7",
           "phiEnd": null,
           "phiStart": null,
           "positions": [
            [
             1.176733385,
             -1.66415231,
             2.038162005
            ]
           ],
           "radius": 0.5,
           "reference": null,
           "visible": null
          },
          {
           "_meta": null,
           "clickable": false,
           "color": "#ffa100",
           "phiEnd": null,
           "phiStart": null,
           "positions": [
            [
             0,
             0,
             -4.07632401
            ]
           ],
           "radius": 0.5,
           "reference": null,
           "visible": null
          },
          {
           "_meta": null,
           "clickable": false,
           "color": "#ffa100",
           "phiEnd": null,
           "phiStart": null,
           "positions": [
            [
             0,
             0,
             4.07632401
            ]
           ],
           "radius": 0.5,
           "reference": null,
           "visible": null
          },
          {
           "_meta": null,
           "clickable": false,
           "color": "#1fffc7",
           "phiEnd": null,
           "phiStart": null,
           "positions": [
            [
             -2.3534667650000003,
             -1.66415231,
             -4.076324015000001
            ]
           ],
           "radius": 0.5,
           "reference": null,
           "visible": null
          },
          {
           "_meta": null,
           "clickable": false,
           "color": "#1fffc7",
           "phiEnd": null,
           "phiStart": null,
           "positions": [
            [
             -2.3534667650000003,
             -1.66415231,
             -5.000000413701855e-09
            ]
           ],
           "radius": 0.5,
           "reference": null,
           "visible": null
          },
          {
           "_meta": null,
           "clickable": false,
           "color": "#ffa100",
           "phiEnd": null,
           "phiStart": null,
           "positions": [
            [
             3.5302001499999998,
             0,
             6.114486020000001
            ]
           ],
           "radius": 0.5,
           "reference": null,
           "visible": null
          },
          {
           "_meta": null,
           "clickable": false,
           "color": "#1fffc7",
           "phiEnd": null,
           "phiStart": null,
           "positions": [
            [
             -1.1767333850000004,
             1.66415231,
             -2.0381620050000007
            ]
           ],
           "radius": 0.5,
           "reference": null,
           "visible": null
          },
          {
           "_meta": null,
           "clickable": false,
           "color": "#ffa100",
           "phiEnd": null,
           "phiStart": null,
           "positions": [
            [
             -3.5302001500000006,
             0,
             -2.0381620100000006
            ]
           ],
           "radius": 0.5,
           "reference": null,
           "visible": null
          },
          {
           "_meta": null,
           "clickable": false,
           "color": "#ffa100",
           "phiEnd": null,
           "phiStart": null,
           "positions": [
            [
             0,
             0,
             0
            ]
           ],
           "radius": 0.5,
           "reference": null,
           "visible": null
          },
          {
           "_meta": null,
           "clickable": false,
           "color": "#ffa100",
           "phiEnd": null,
           "phiStart": null,
           "positions": [
            [
             3.5302001499999998,
             0,
             -2.0381620000000007
            ]
           ],
           "radius": 0.5,
           "reference": null,
           "visible": null
          },
          {
           "_meta": null,
           "clickable": false,
           "color": "#ffa100",
           "phiEnd": null,
           "phiStart": null,
           "positions": [
            [
             2.35346677,
             -3.32830462,
             -8.881784197001252e-16
            ]
           ],
           "radius": 0.5,
           "reference": null,
           "visible": null
          },
          {
           "_meta": null,
           "clickable": false,
           "color": "#ffa100",
           "phiEnd": null,
           "phiStart": null,
           "positions": [
            [
             -3.5302001500000006,
             0,
             2.038162
            ]
           ],
           "radius": 0.5,
           "reference": null,
           "visible": null
          },
          {
           "_meta": null,
           "clickable": false,
           "color": "#ffa100",
           "phiEnd": null,
           "phiStart": null,
           "positions": [
            [
             -2.3534667700000007,
             3.3283046199999995,
             4.07632401
            ]
           ],
           "radius": 0.5,
           "reference": null,
           "visible": null
          },
          {
           "_meta": null,
           "clickable": false,
           "color": "#1fffc7",
           "phiEnd": null,
           "phiStart": null,
           "positions": [
            [
             -1.1767333850000004,
             1.66415231,
             2.038162005
            ]
           ],
           "radius": 0.5,
           "reference": null,
           "visible": null
          },
          {
           "_meta": null,
           "clickable": false,
           "color": "#ffa100",
           "phiEnd": null,
           "phiStart": null,
           "positions": [
            [
             1.17673338,
             3.3283046199999995,
             -2.0381620000000007
            ]
           ],
           "radius": 0.5,
           "reference": null,
           "visible": null
          },
          {
           "_meta": null,
           "clickable": false,
           "color": "#ffa100",
           "phiEnd": null,
           "phiStart": null,
           "positions": [
            [
             -2.3534667700000007,
             3.3283046199999995,
             -4.076324010000001
            ]
           ],
           "radius": 0.5,
           "reference": null,
           "visible": null
          },
          {
           "_meta": null,
           "clickable": false,
           "color": "#ffa100",
           "phiEnd": null,
           "phiStart": null,
           "positions": [
            [
             2.35346677,
             -3.32830462,
             4.07632401
            ]
           ],
           "radius": 0.5,
           "reference": null,
           "visible": null
          },
          {
           "_meta": null,
           "clickable": false,
           "color": "#ffa100",
           "phiEnd": null,
           "phiStart": null,
           "positions": [
            [
             -4.706933530000001,
             -3.32830462,
             -4.076324020000001
            ]
           ],
           "radius": 0.5,
           "reference": null,
           "visible": null
          },
          {
           "_meta": null,
           "clickable": false,
           "color": "#1fffc7",
           "phiEnd": null,
           "phiStart": null,
           "positions": [
            [
             2.3534667650000003,
             1.66415231,
             4.076324015000001
            ]
           ],
           "radius": 0.5,
           "reference": null,
           "visible": null
          },
          {
           "_meta": null,
           "clickable": false,
           "color": "#ffa100",
           "phiEnd": null,
           "phiStart": null,
           "positions": [
            [
             -1.1767333800000002,
             -3.32830462,
             2.038162
            ]
           ],
           "radius": 0.5,
           "reference": null,
           "visible": null
          },
          {
           "_meta": null,
           "clickable": false,
           "color": "#ffa100",
           "phiEnd": null,
           "phiStart": null,
           "positions": [
            [
             2.35346677,
             -3.32830462,
             -4.076324010000001
            ]
           ],
           "radius": 0.5,
           "reference": null,
           "visible": null
          },
          {
           "_meta": null,
           "clickable": false,
           "color": "#ffa100",
           "phiEnd": null,
           "phiStart": null,
           "positions": [
            [
             3.5302001499999998,
             0,
             2.0381620099999997
            ]
           ],
           "radius": 0.5,
           "reference": null,
           "visible": null
          },
          {
           "_meta": null,
           "clickable": false,
           "color": "#1fffc7",
           "phiEnd": null,
           "phiStart": null,
           "positions": [
            [
             2.3534667650000003,
             1.66415231,
             4.999999525523435e-09
            ]
           ],
           "radius": 0.5,
           "reference": null,
           "visible": null
          },
          {
           "_meta": null,
           "clickable": false,
           "color": "#ffa100",
           "phiEnd": null,
           "phiStart": null,
           "positions": [
            [
             1.17673338,
             3.3283046199999995,
             6.114486020000001
            ]
           ],
           "radius": 0.5,
           "reference": null,
           "visible": null
          },
          {
           "_meta": null,
           "clickable": false,
           "color": "#ffa100",
           "phiEnd": null,
           "phiStart": null,
           "positions": [
            [
             -2.3534667700000007,
             3.3283046199999995,
             -8.881784197001252e-16
            ]
           ],
           "radius": 0.5,
           "reference": null,
           "visible": null
          },
          {
           "_meta": null,
           "clickable": false,
           "color": "#ffa100",
           "phiEnd": null,
           "phiStart": null,
           "positions": [
            [
             -1.1767333800000002,
             -3.32830462,
             -2.0381620100000006
            ]
           ],
           "radius": 0.5,
           "reference": null,
           "visible": null
          },
          {
           "_meta": null,
           "clickable": false,
           "color": "#1fffc7",
           "phiEnd": null,
           "phiStart": null,
           "positions": [
            [
             1.176733385,
             -1.66415231,
             -2.0381620050000007
            ]
           ],
           "radius": 0.5,
           "reference": null,
           "visible": null
          },
          {
           "_meta": null,
           "clickable": false,
           "color": "#ffa100",
           "phiEnd": null,
           "phiStart": null,
           "positions": [
            [
             -3.5302001500000006,
             0,
             -6.114486020000001
            ]
           ],
           "radius": 0.5,
           "reference": null,
           "visible": null
          },
          {
           "_meta": null,
           "clickable": false,
           "color": "#ffa100",
           "phiEnd": null,
           "phiStart": null,
           "positions": [
            [
             4.70693353,
             3.3283046199999995,
             9.99999905104687e-09
            ]
           ],
           "radius": 0.5,
           "reference": null,
           "visible": null
          },
          {
           "_meta": null,
           "clickable": false,
           "color": "#ffa100",
           "phiEnd": null,
           "phiStart": null,
           "positions": [
            [
             -4.706933530000001,
             -3.32830462,
             -1.000000082740371e-08
            ]
           ],
           "radius": 0.5,
           "reference": null,
           "visible": null
          }
         ],
         "name": "atoms",
         "origin": [
          0,
          0,
          0
         ]
        },
        {
         "_meta": null,
         "contents": [
          {
           "_meta": null,
           "clickable": false,
           "color": "#ffa100",
           "positionPairs": [
            [
             [
              4.70693353,
              3.3283046199999995,
              4.0763240199999995
             ],
             [
              3.5302001475,
              2.4962284649999997,
              4.0763240175
             ]
            ]
           ],
           "radius": null,
           "reference": null,
           "visible": null
          },
          {
           "_meta": null,
           "clickable": false,
           "color": "#ffa100",
           "positionPairs": [
            [
             [
              1.17673338,
              3.3283046199999995,
              2.0381620099999997
             ],
             [
              -2.5000002068509275e-09,
              2.4962284649999997,
              2.0381620075
             ]
            ]
           ],
           "radius": null,
           "reference": null,
           "visible": null
          },
          {
           "_meta": null,
           "clickable": false,
           "color": "#ffa100",
           "positionPairs": [
            [
             [
              1.17673338,
              3.3283046199999995,
              2.0381620099999997
             ],
             [
              1.7651000725000001,
              2.4962284649999997,
              1.0190810074999996
             ]
            ]
           ],
           "radius": null,
           "reference": null,
           "visible": null
          },
          {
           "_meta": null,
           "clickable": false,
           "color": "#ffa100",
           "positionPairs": [
            [
             [
              1.17673338,
              3.3283046199999995,
              2.0381620099999997
             ],
             [
              1.7651000725000001,
              2.4962284649999997,
              3.0572430125000003
             ]
            ]
           ],
           "radius": null,
           "reference": null,
           "visible": null
          },
          {
           "_meta": null,
           "clickable": false,
           "color": "#ffa100",
           "positionPairs": [
            [
             [
              -1.1767333800000002,
              -3.32830462,
              -6.114486020000001
             ],
             [
              -1.7651000725000001,
              -2.4962284649999997,
              -5.095405017500001
             ]
            ]
           ],
           "radius": null,
           "reference": null,
           "visible": null
          },
          {
           "_meta": null,
           "clickable": false,
           "color": "#1fffc7",
           "positionPairs": [
            [
             [
              1.176733385,
              -1.66415231,
              2.038162005
             ],
             [
              2.3534667674999996,
              -0.832076155,
              2.0381620075
             ]
            ]
           ],
           "radius": null,
           "reference": null,
           "visible": null
          },
          {
           "_meta": null,
           "clickable": false,
           "color": "#1fffc7",
           "positionPairs": [
            [
             [
              1.176733385,
              -1.66415231,
              2.038162005
             ],
             [
              2.49999987378402e-09,
              -2.4962284649999997,
              2.0381620025
             ]
            ]
           ],
           "radius": null,
           "reference": null,
           "visible": null
          },
          {
           "_meta": null,
           "clickable": false,
           "color": "#1fffc7",
           "positionPairs": [
            [
             [
              1.176733385,
              -1.66415231,
              2.038162005
             ],
             [
              0.5883666925,
              -0.832076155,
              1.0190810025
             ]
            ]
           ],
           "radius": null,
           "reference": null,
           "visible": null
          },
          {
           "_meta": null,
           "clickable": false,
           "color": "#1fffc7",
           "positionPairs": [
            [
             [
              1.176733385,
              -1.66415231,
              2.038162005
             ],
             [
              1.7651000774999999,
              -2.4962284649999997,
              1.0190810024999997
             ]
            ]
           ],
           "radius": null,
           "reference": null,
           "visible": null
          },
          {
           "_meta": null,
           "clickable": false,
           "color": "#1fffc7",
           "positionPairs": [
            [
             [
              1.176733385,
              -1.66415231,
              2.038162005
             ],
             [
              1.7651000774999999,
              -2.4962284649999997,
              3.0572430075000003
             ]
            ]
           ],
           "radius": null,
           "reference": null,
           "visible": null
          },
          {
           "_meta": null,
           "clickable": false,
           "color": "#1fffc7",
           "positionPairs": [
            [
             [
              1.176733385,
              -1.66415231,
              2.038162005
             ],
             [
              0.5883666925,
              -0.832076155,
              3.0572430075000003
             ]
            ]
           ],
           "radius": null,
           "reference": null,
           "visible": null
          },
          {
           "_meta": null,
           "clickable": false,
           "color": "#ffa100",
           "positionPairs": [
            [
             [
              0,
              0,
              -4.07632401
             ],
             [
              -1.1767333825000001,
              -0.832076155,
              -4.076324012500001
             ]
            ]
           ],
           "radius": null,
           "reference": null,
           "visible": null
          },
          {
           "_meta": null,
           "clickable": false,
           "color": "#ffa100",
           "positionPairs": [
            [
             [
              0,
              0,
              -4.07632401
             ],
             [
              -0.5883666925000002,
              0.832076155,
              -3.0572430075000003
             ]
            ]
           ],
           "radius": null,
           "reference": null,
           "visible": null
          },
          {
           "_meta": null,
           "clickable": false,
           "color": "#ffa100",
           "positionPairs": [
            [
             [
              0,
              0,
              -4.07632401
             ],
             [
              0.5883666925,
              -0.832076155,
              -3.0572430075000003
             ]
            ]
           ],
           "radius": null,
           "reference": null,
           "visible": null
          },
          {
           "_meta": null,
           "clickable": false,
           "color": "#ffa100",
           "positionPairs": [
            [
             [
              0,
              0,
              4.07632401
             ],
             [
              1.1767333825000001,
              0.832076155,
              4.076324012500001
             ]
            ]
           ],
           "radius": null,
           "reference": null,
           "visible": null
          },
          {
           "_meta": null,
           "clickable": false,
           "color": "#ffa100",
           "positionPairs": [
            [
             [
              0,
              0,
              4.07632401
             ],
             [
              0.5883666925,
              -0.832076155,
              3.0572430075000003
             ]
            ]
           ],
           "radius": null,
           "reference": null,
           "visible": null
          },
          {
           "_meta": null,
           "clickable": false,
           "color": "#ffa100",
           "positionPairs": [
            [
             [
              0,
              0,
              4.07632401
             ],
             [
              -0.5883666925000002,
              0.832076155,
              3.0572430075000003
             ]
            ]
           ],
           "radius": null,
           "reference": null,
           "visible": null
          },
          {
           "_meta": null,
           "clickable": false,
           "color": "#1fffc7",
           "positionPairs": [
            [
             [
              -2.3534667650000003,
              -1.66415231,
              -4.076324015000001
             ],
             [
              -1.1767333825000001,
              -0.832076155,
              -4.076324012500001
             ]
            ]
           ],
           "radius": null,
           "reference": null,
           "visible": null
          },
          {
           "_meta": null,
           "clickable": false,
           "color": "#1fffc7",
           "positionPairs": [
            [
             [
              -2.3534667650000003,
              -1.66415231,
              -4.076324015000001
             ],
             [
              -3.5302001475000004,
              -2.4962284649999997,
              -4.076324017500001
             ]
            ]
           ],
           "radius": null,
           "reference": null,
           "visible": null
          },
          {
           "_meta": null,
           "clickable": false,
           "color": "#1fffc7",
           "positionPairs": [
            [
             [
              -2.3534667650000003,
              -1.66415231,
              -4.076324015000001
             ],
             [
              -2.9418334575000005,
              -0.832076155,
              -5.095405017500001
             ]
            ]
           ],
           "radius": null,
           "reference": null,
           "visible": null
          },
          {
           "_meta": null,
           "clickable": false,
           "color": "#1fffc7",
           "positionPairs": [
            [
             [
              -2.3534667650000003,
              -1.66415231,
              -4.076324015000001
             ],
             [
              -1.7651000725000001,
              -2.4962284649999997,
              -5.095405017500001
             ]
            ]
           ],
           "radius": null,
           "reference": null,
           "visible": null
          },
          {
           "_meta": null,
           "clickable": false,
           "color": "#1fffc7",
           "positionPairs": [
            [
             [
              -2.3534667650000003,
              -1.66415231,
              -4.076324015000001
             ],
             [
              -2.9418334575000005,
              -0.832076155,
              -3.0572430125000007
             ]
            ]
           ],
           "radius": null,
           "reference": null,
           "visible": null
          },
          {
           "_meta": null,
           "clickable": false,
           "color": "#1fffc7",
           "positionPairs": [
            [
             [
              -2.3534667650000003,
              -1.66415231,
              -4.076324015000001
             ],
             [
              -1.7651000725000001,
              -2.4962284649999997,
              -3.0572430125000007
             ]
            ]
           ],
           "radius": null,
           "reference": null,
           "visible": null
          },
          {
           "_meta": null,
           "clickable": false,
           "color": "#1fffc7",
           "positionPairs": [
            [
             [
              -2.3534667650000003,
              -1.66415231,
              -5.000000413701855e-09
             ],
             [
              -3.5302001475000004,
              -2.4962284649999997,
              -7.500000620552782e-09
             ]
            ]
           ],
           "radius": null,
           "reference": null,
           "visible": null
          },
          {
           "_meta": null,
           "clickable": false,
           "color": "#1fffc7",
           "positionPairs": [
            [
             [
              -2.3534667650000003,
              -1.66415231,
              -5.000000413701855e-09
             ],
             [
              -1.1767333825000001,
              -0.832076155,
              -2.5000002068509275e-09
             ]
            ]
           ],
           "radius": null,
           "reference": null,
           "visible": null
          },
          {
           "_meta": null,
           "clickable": false,
           "color": "#1fffc7",
           "positionPairs": [
            [
             [
              -2.3534667650000003,
              -1.66415231,
              -5.000000413701855e-09
             ],
             [
              -2.9418334575000005,
              -0.832076155,
              1.0190809974999997
             ]
            ]
           ],
           "radius": null,
           "reference": null,
           "visible": null
          },
          {
           "_meta": null,
           "clickable": false,
           "color": "#1fffc7",
           "positionPairs": [
            [
             [
              -2.3534667650000003,
              -1.66415231,
              -5.000000413701855e-09
             ],
             [
              -1.7651000725000001,
              -2.4962284649999997,
              1.0190809974999997
             ]
            ]
           ],
           "radius": null,
           "reference": null,
           "visible": null
          },
          {
           "_meta": null,
           "clickable": false,
           "color": "#1fffc7",
           "positionPairs": [
            [
             [
              -2.3534667650000003,
              -1.66415231,
              -5.000000413701855e-09
             ],
             [
              -2.9418334575000005,
              -0.832076155,
              -1.0190810075000005
             ]
            ]
           ],
           "radius": null,
           "reference": null,
           "visible": null
          },
          {
           "_meta": null,
           "clickable": false,
           "color": "#1fffc7",
           "positionPairs": [
            [
             [
              -2.3534667650000003,
              -1.66415231,
              -5.000000413701855e-09
             ],
             [
              -1.7651000725000001,
              -2.4962284649999997,
              -1.0190810075000005
             ]
            ]
           ],
           "radius": null,
           "reference": null,
           "visible": null
          },
          {
           "_meta": null,
           "clickable": false,
           "color": "#ffa100",
           "positionPairs": [
            [
             [
              3.5302001499999998,
              0,
              6.114486020000001
             ],
             [
              2.9418334575,
              0.832076155,
              5.095405017500001
             ]
            ]
           ],
           "radius": null,
           "reference": null,
           "visible": null
          },
          {
           "_meta": null,
           "clickable": false,
           "color": "#1fffc7",
           "positionPairs": [
            [
             [
              -1.1767333850000004,
              1.66415231,
              -2.0381620050000007
             ],
             [
              -2.5000002068509275e-09,
              2.4962284649999997,
              -2.038162002500001
             ]
            ]
           ],
           "radius": null,
           "reference": null,
           "visible": null
          },
          {
           "_meta": null,
           "clickable": false,
           "color": "#1fffc7",
           "positionPairs": [
            [
             [
              -1.1767333850000004,
              1.66415231,
              -2.0381620050000007
             ],
             [
              -2.3534667675000005,
              0.832076155,
              -2.0381620075000004
             ]
            ]
           ],
           "radius": null,
           "reference": null,
           "visible": null
          },
          {
           "_meta": null,
           "clickable": false,
           "color": "#1fffc7",
           "positionPairs": [
            [
             [
              -1.1767333850000004,
              1.66415231,
              -2.0381620050000007
             ],
             [
              -0.5883666925000002,
              0.832076155,
              -1.0190810025000003
             ]
            ]
           ],
           "radius": null,
           "reference": null,
           "visible": null
          },
          {
           "_meta": null,
           "clickable": false,
           "color": "#1fffc7",
           "positionPairs": [
            [
             [
              -1.1767333850000004,
              1.66415231,
              -2.0381620050000007
             ],
             [
              -0.5883666925000002,
              0.832076155,
              -3.0572430075000003
             ]
            ]
           ],
           "radius": null,
           "reference": null,
           "visible": null
          },
          {
           "_meta": null,
           "clickable": false,
           "color": "#1fffc7",
           "positionPairs": [
            [
             [
              -1.1767333850000004,
              1.66415231,
              -2.0381620050000007
             ],
             [
              -1.7651000775000005,
              2.4962284649999997,
              -3.057243007500001
             ]
            ]
           ],
           "radius": null,
           "reference": null,
           "visible": null
          },
          {
           "_meta": null,
           "clickable": false,
           "color": "#1fffc7",
           "positionPairs": [
            [
             [
              -1.1767333850000004,
              1.66415231,
              -2.0381620050000007
             ],
             [
              -1.7651000775000005,
              2.4962284649999997,
              -1.0190810025000008
             ]
            ]
           ],
           "radius": null,
           "reference": null,
           "visible": null
          },
          {
           "_meta": null,
           "clickable": false,
           "color": "#ffa100",
           "positionPairs": [
            [
             [
              -3.5302001500000006,
              0,
              -2.0381620100000006
             ],
             [
              -2.3534667675000005,
              0.832076155,
              -2.0381620075000004
             ]
            ]
           ],
           "radius": null,
           "reference": null,
           "visible": null
          },
          {
           "_meta": null,
           "clickable": false,
           "color": "#ffa100",
           "positionPairs": [
            [
             [
              -3.5302001500000006,
              0,
              -2.0381620100000006
             ],
             [
              -2.9418334575000005,
              -0.832076155,
              -3.0572430125000007
             ]
            ]
           ],
           "radius": null,
           "reference": null,
           "visible": null
          },
          {
           "_meta": null,
           "clickable": false,
           "color": "#ffa100",
           "positionPairs": [
            [
             [
              -3.5302001500000006,
              0,
              -2.0381620100000006
             ],
             [
              -2.9418334575000005,
              -0.832076155,
              -1.0190810075000005
             ]
            ]
           ],
           "radius": null,
           "reference": null,
           "visible": null
          },
          {
           "_meta": null,
           "clickable": false,
           "color": "#ffa100",
           "positionPairs": [
            [
             [
              0,
              0,
              0
             ],
             [
              1.1767333825000001,
              0.832076155,
              2.4999997627617176e-09
             ]
            ]
           ],
           "radius": null,
           "reference": null,
           "visible": null
          },
          {
           "_meta": null,
           "clickable": false,
           "color": "#ffa100",
           "positionPairs": [
            [
             [
              0,
              0,
              0
             ],
             [
              -1.1767333825000001,
              -0.832076155,
              -2.5000002068509275e-09
             ]
            ]
           ],
           "radius": null,
           "reference": null,
           "visible": null
          },
          {
           "_meta": null,
           "clickable": false,
           "color": "#ffa100",
           "positionPairs": [
            [
             [
              0,
              0,
              0
             ],
             [
              -0.5883666925000002,
              0.832076155,
              -1.0190810025000003
             ]
            ]
           ],
           "radius": null,
           "reference": null,
           "visible": null
          },
          {
           "_meta": null,
           "clickable": false,
           "color": "#ffa100",
           "positionPairs": [
            [
             [
              0,
              0,
              0
             ],
             [
              0.5883666925,
              -0.832076155,
              1.0190810025
             ]
            ]
           ],
           "radius": null,
           "reference": null,
           "visible": null
          },
          {
           "_meta": null,
           "clickable": false,
           "color": "#ffa100",
           "positionPairs": [
            [
             [
              0,
              0,
              0
             ],
             [
              0.5883666925,
              -0.832076155,
              -1.0190810025000003
             ]
            ]
           ],
           "radius": null,
           "reference": null,
           "visible": null
          },
          {
           "_meta": null,
           "clickable": false,
           "color": "#ffa100",
           "positionPairs": [
            [
             [
              0,
              0,
              0
             ],
             [
              -0.5883666925000002,
              0.832076155,
              1.0190810025
             ]
            ]
           ],
           "radius": null,
           "reference": null,
           "visible": null
          },
          {
           "_meta": null,
           "clickable": false,
           "color": "#ffa100",
           "positionPairs": [
            [
             [
              3.5302001499999998,
              0,
              -2.0381620000000007
             ],
             [
              2.3534667674999996,
              -0.832076155,
              -2.038162002500001
             ]
            ]
           ],
           "radius": null,
           "reference": null,
           "visible": null
          },
          {
           "_meta": null,
           "clickable": false,
           "color": "#ffa100",
           "positionPairs": [
            [
             [
              3.5302001499999998,
              0,
              -2.0381620000000007
             ],
             [
              2.9418334575,
              0.832076155,
              -1.0190809975000006
             ]
            ]
           ],
           "radius": null,
           "reference": null,
           "visible": null
          },
          {
           "_meta": null,
           "clickable": false,
           "color": "#ffa100",
           "positionPairs": [
            [
             [
              2.35346677,
              -3.32830462,
              -8.881784197001252e-16
             ],
             [
              1.7651000774999999,
              -2.4962284649999997,
              1.0190810024999997
             ]
            ]
           ],
           "radius": null,
           "reference": null,
           "visible": null
          },
          {
           "_meta": null,
           "clickable": false,
           "color": "#ffa100",
           "positionPairs": [
            [
             [
              2.35346677,
              -3.32830462,
              -8.881784197001252e-16
             ],
             [
              1.7651000774999999,
              -2.4962284649999997,
              -1.0190810025000008
             ]
            ]
           ],
           "radius": null,
           "reference": null,
           "visible": null
          },
          {
           "_meta": null,
           "clickable": false,
           "color": "#ffa100",
           "positionPairs": [
            [
             [
              -3.5302001500000006,
              0,
              2.038162
             ],
             [
              -2.3534667675000005,
              0.832076155,
              2.0381620025
             ]
            ]
           ],
           "radius": null,
           "reference": null,
           "visible": null
          },
          {
           "_meta": null,
           "clickable": false,
           "color": "#ffa100",
           "positionPairs": [
            [
             [
              -3.5302001500000006,
              0,
              2.038162
             ],
             [
              -2.9418334575000005,
              -0.832076155,
              1.0190809974999997
             ]
            ]
           ],
           "radius": null,
           "reference": null,
           "visible": null
          },
          {
           "_meta": null,
           "clickable": false,
           "color": "#ffa100",
           "positionPairs": [
            [
             [
              -2.3534667700000007,
              3.3283046199999995,
              4.07632401
             ],
             [
              -1.7651000775000005,
              2.4962284649999997,
              3.0572430075000003
             ]
            ]
           ],
           "radius": null,
           "reference": null,
           "visible": null
          },
          {
           "_meta": null,
           "clickable": false,
           "color": "#1fffc7",
           "positionPairs": [
            [
             [
              -1.1767333850000004,
              1.66415231,
              2.038162005
             ],
             [
              -2.3534667675000005,
              0.832076155,
              2.0381620025
             ]
            ]
           ],
           "radius": null,
           "reference": null,
           "visible": null
          },
          {
           "_meta": null,
           "clickable": false,
           "color": "#1fffc7",
           "positionPairs": [
            [
             [
              -1.1767333850000004,
              1.66415231,
              2.038162005
             ],
             [
              -2.5000002068509275e-09,
              2.4962284649999997,
              2.0381620075
             ]
            ]
           ],
           "radius": null,
           "reference": null,
           "visible": null
          },
          {
           "_meta": null,
           "clickable": false,
           "color": "#1fffc7",
           "positionPairs": [
            [
             [
              -1.1767333850000004,
              1.66415231,
              2.038162005
             ],
             [
              -1.7651000775000005,
              2.4962284649999997,
              3.0572430075000003
             ]
            ]
           ],
           "radius": null,
           "reference": null,
           "visible": null
          },
          {
           "_meta": null,
           "clickable": false,
           "color": "#1fffc7",
           "positionPairs": [
            [
             [
              -1.1767333850000004,
              1.66415231,
              2.038162005
             ],
             [
              -0.5883666925000002,
              0.832076155,
              1.0190810025
             ]
            ]
           ],
           "radius": null,
           "reference": null,
           "visible": null
          },
          {
           "_meta": null,
           "clickable": false,
           "color": "#1fffc7",
           "positionPairs": [
            [
             [
              -1.1767333850000004,
              1.66415231,
              2.038162005
             ],
             [
              -1.7651000775000005,
              2.4962284649999997,
              1.0190810024999997
             ]
            ]
           ],
           "radius": null,
           "reference": null,
           "visible": null
          },
          {
           "_meta": null,
           "clickable": false,
           "color": "#1fffc7",
           "positionPairs": [
            [
             [
              -1.1767333850000004,
              1.66415231,
              2.038162005
             ],
             [
              -0.5883666925000002,
              0.832076155,
              3.0572430075000003
             ]
            ]
           ],
           "radius": null,
           "reference": null,
           "visible": null
          },
          {
           "_meta": null,
           "clickable": false,
           "color": "#ffa100",
           "positionPairs": [
            [
             [
              1.17673338,
              3.3283046199999995,
              -2.0381620000000007
             ],
             [
              -2.5000002068509275e-09,
              2.4962284649999997,
              -2.038162002500001
             ]
            ]
           ],
           "radius": null,
           "reference": null,
           "visible": null
          },
          {
           "_meta": null,
           "clickable": false,
           "color": "#ffa100",
           "positionPairs": [
            [
             [
              1.17673338,
              3.3283046199999995,
              -2.0381620000000007
             ],
             [
              1.7651000725000001,
              2.4962284649999997,
              -1.0190809975000006
             ]
            ]
           ],
           "radius": null,
           "reference": null,
           "visible": null
          },
          {
           "_meta": null,
           "clickable": false,
           "color": "#ffa100",
           "positionPairs": [
            [
             [
              -2.3534667700000007,
              3.3283046199999995,
              -4.076324010000001
             ],
             [
              -1.7651000775000005,
              2.4962284649999997,
              -3.057243007500001
             ]
            ]
           ],
           "radius": null,
           "reference": null,
           "visible": null
          },
          {
           "_meta": null,
           "clickable": false,
           "color": "#ffa100",
           "positionPairs": [
            [
             [
              2.35346677,
              -3.32830462,
              4.07632401
             ],
             [
              1.7651000774999999,
              -2.4962284649999997,
              3.0572430075000003
             ]
            ]
           ],
           "radius": null,
           "reference": null,
           "visible": null
          },
          {
           "_meta": null,
           "clickable": false,
           "color": "#ffa100",
           "positionPairs": [
            [
             [
              -4.706933530000001,
              -3.32830462,
              -4.076324020000001
             ],
             [
              -3.5302001475000004,
              -2.4962284649999997,
              -4.076324017500001
             ]
            ]
           ],
           "radius": null,
           "reference": null,
           "visible": null
          },
          {
           "_meta": null,
           "clickable": false,
           "color": "#1fffc7",
           "positionPairs": [
            [
             [
              2.3534667650000003,
              1.66415231,
              4.076324015000001
             ],
             [
              3.5302001475,
              2.4962284649999997,
              4.0763240175
             ]
            ]
           ],
           "radius": null,
           "reference": null,
           "visible": null
          },
          {
           "_meta": null,
           "clickable": false,
           "color": "#1fffc7",
           "positionPairs": [
            [
             [
              2.3534667650000003,
              1.66415231,
              4.076324015000001
             ],
             [
              1.1767333825000001,
              0.832076155,
              4.076324012500001
             ]
            ]
           ],
           "radius": null,
           "reference": null,
           "visible": null
          },
          {
           "_meta": null,
           "clickable": false,
           "color": "#1fffc7",
           "positionPairs": [
            [
             [
              2.3534667650000003,
              1.66415231,
              4.076324015000001
             ],
             [
              2.9418334575,
              0.832076155,
              3.0572430125000003
             ]
            ]
           ],
           "radius": null,
           "reference": null,
           "visible": null
          },
          {
           "_meta": null,
           "clickable": false,
           "color": "#1fffc7",
           "positionPairs": [
            [
             [
              2.3534667650000003,
              1.66415231,
              4.076324015000001
             ],
             [
              2.9418334575,
              0.832076155,
              5.095405017500001
             ]
            ]
           ],
           "radius": null,
           "reference": null,
           "visible": null
          },
          {
           "_meta": null,
           "clickable": false,
           "color": "#1fffc7",
           "positionPairs": [
            [
             [
              2.3534667650000003,
              1.66415231,
              4.076324015000001
             ],
             [
              1.7651000725000001,
              2.4962284649999997,
              3.0572430125000003
             ]
            ]
           ],
           "radius": null,
           "reference": null,
           "visible": null
          },
          {
           "_meta": null,
           "clickable": false,
           "color": "#1fffc7",
           "positionPairs": [
            [
             [
              2.3534667650000003,
              1.66415231,
              4.076324015000001
             ],
             [
              1.7651000725000001,
              2.4962284649999997,
              5.095405017500001
             ]
            ]
           ],
           "radius": null,
           "reference": null,
           "visible": null
          },
          {
           "_meta": null,
           "clickable": false,
           "color": "#ffa100",
           "positionPairs": [
            [
             [
              -1.1767333800000002,
              -3.32830462,
              2.038162
             ],
             [
              2.49999987378402e-09,
              -2.4962284649999997,
              2.0381620025
             ]
            ]
           ],
           "radius": null,
           "reference": null,
           "visible": null
          },
          {
           "_meta": null,
           "clickable": false,
           "color": "#ffa100",
           "positionPairs": [
            [
             [
              -1.1767333800000002,
              -3.32830462,
              2.038162
             ],
             [
              -1.7651000725000001,
              -2.4962284649999997,
              1.0190809974999997
             ]
            ]
           ],
           "radius": null,
           "reference": null,
           "visible": null
          },
          {
           "_meta": null,
           "clickable": false,
           "color": "#ffa100",
           "positionPairs": [
            [
             [
              2.35346677,
              -3.32830462,
              -4.076324010000001
             ],
             [
              1.7651000774999999,
              -2.4962284649999997,
              -3.057243007500001
             ]
            ]
           ],
           "radius": null,
           "reference": null,
           "visible": null
          },
          {
           "_meta": null,
           "clickable": false,
           "color": "#ffa100",
           "positionPairs": [
            [
             [
              3.5302001499999998,
              0,
              2.0381620099999997
             ],
             [
              2.3534667674999996,
              -0.832076155,
              2.0381620075
             ]
            ]
           ],
           "radius": null,
           "reference": null,
           "visible": null
          },
          {
           "_meta": null,
           "clickable": false,
           "color": "#ffa100",
           "positionPairs": [
            [
             [
              3.5302001499999998,
              0,
              2.0381620099999997
             ],
             [
              2.9418334575,
              0.832076155,
              3.0572430125000003
             ]
            ]
           ],
           "radius": null,
           "reference": null,
           "visible": null
          },
          {
           "_meta": null,
           "clickable": false,
           "color": "#ffa100",
           "positionPairs": [
            [
             [
              3.5302001499999998,
              0,
              2.0381620099999997
             ],
             [
              2.9418334575,
              0.832076155,
              1.0190810074999996
             ]
            ]
           ],
           "radius": null,
           "reference": null,
           "visible": null
          },
          {
           "_meta": null,
           "clickable": false,
           "color": "#1fffc7",
           "positionPairs": [
            [
             [
              2.3534667650000003,
              1.66415231,
              4.999999525523435e-09
             ],
             [
              1.1767333825000001,
              0.832076155,
              2.4999997627617176e-09
             ]
            ]
           ],
           "radius": null,
           "reference": null,
           "visible": null
          },
          {
           "_meta": null,
           "clickable": false,
           "color": "#1fffc7",
           "positionPairs": [
            [
             [
              2.3534667650000003,
              1.66415231,
              4.999999525523435e-09
             ],
             [
              3.5302001475,
              2.4962284649999997,
              7.499999288285153e-09
             ]
            ]
           ],
           "radius": null,
           "reference": null,
           "visible": null
          },
          {
           "_meta": null,
           "clickable": false,
           "color": "#1fffc7",
           "positionPairs": [
            [
             [
              2.3534667650000003,
              1.66415231,
              4.999999525523435e-09
             ],
             [
              2.9418334575,
              0.832076155,
              1.0190810074999996
             ]
            ]
           ],
           "radius": null,
           "reference": null,
           "visible": null
          },
          {
           "_meta": null,
           "clickable": false,
           "color": "#1fffc7",
           "positionPairs": [
            [
             [
              2.3534667650000003,
              1.66415231,
              4.999999525523435e-09
             ],
             [
              2.9418334575,
              0.832076155,
              -1.0190809975000006
             ]
            ]
           ],
           "radius": null,
           "reference": null,
           "visible": null
          },
          {
           "_meta": null,
           "clickable": false,
           "color": "#1fffc7",
           "positionPairs": [
            [
             [
              2.3534667650000003,
              1.66415231,
              4.999999525523435e-09
             ],
             [
              1.7651000725000001,
              2.4962284649999997,
              -1.0190809975000006
             ]
            ]
           ],
           "radius": null,
           "reference": null,
           "visible": null
          },
          {
           "_meta": null,
           "clickable": false,
           "color": "#1fffc7",
           "positionPairs": [
            [
             [
              2.3534667650000003,
              1.66415231,
              4.999999525523435e-09
             ],
             [
              1.7651000725000001,
              2.4962284649999997,
              1.0190810074999996
             ]
            ]
           ],
           "radius": null,
           "reference": null,
           "visible": null
          },
          {
           "_meta": null,
           "clickable": false,
           "color": "#ffa100",
           "positionPairs": [
            [
             [
              1.17673338,
              3.3283046199999995,
              6.114486020000001
             ],
             [
              1.7651000725000001,
              2.4962284649999997,
              5.095405017500001
             ]
            ]
           ],
           "radius": null,
           "reference": null,
           "visible": null
          },
          {
           "_meta": null,
           "clickable": false,
           "color": "#ffa100",
           "positionPairs": [
            [
             [
              -2.3534667700000007,
              3.3283046199999995,
              -8.881784197001252e-16
             ],
             [
              -1.7651000775000005,
              2.4962284649999997,
              -1.0190810025000008
             ]
            ]
           ],
           "radius": null,
           "reference": null,
           "visible": null
          },
          {
           "_meta": null,
           "clickable": false,
           "color": "#ffa100",
           "positionPairs": [
            [
             [
              -2.3534667700000007,
              3.3283046199999995,
              -8.881784197001252e-16
             ],
             [
              -1.7651000775000005,
              2.4962284649999997,
              1.0190810024999997
             ]
            ]
           ],
           "radius": null,
           "reference": null,
           "visible": null
          },
          {
           "_meta": null,
           "clickable": false,
           "color": "#ffa100",
           "positionPairs": [
            [
             [
              -1.1767333800000002,
              -3.32830462,
              -2.0381620100000006
             ],
             [
              2.49999987378402e-09,
              -2.4962284649999997,
              -2.0381620075000004
             ]
            ]
           ],
           "radius": null,
           "reference": null,
           "visible": null
          },
          {
           "_meta": null,
           "clickable": false,
           "color": "#ffa100",
           "positionPairs": [
            [
             [
              -1.1767333800000002,
              -3.32830462,
              -2.0381620100000006
             ],
             [
              -1.7651000725000001,
              -2.4962284649999997,
              -3.0572430125000007
             ]
            ]
           ],
           "radius": null,
           "reference": null,
           "visible": null
          },
          {
           "_meta": null,
           "clickable": false,
           "color": "#ffa100",
           "positionPairs": [
            [
             [
              -1.1767333800000002,
              -3.32830462,
              -2.0381620100000006
             ],
             [
              -1.7651000725000001,
              -2.4962284649999997,
              -1.0190810075000005
             ]
            ]
           ],
           "radius": null,
           "reference": null,
           "visible": null
          },
          {
           "_meta": null,
           "clickable": false,
           "color": "#1fffc7",
           "positionPairs": [
            [
             [
              1.176733385,
              -1.66415231,
              -2.0381620050000007
             ],
             [
              2.3534667674999996,
              -0.832076155,
              -2.038162002500001
             ]
            ]
           ],
           "radius": null,
           "reference": null,
           "visible": null
          },
          {
           "_meta": null,
           "clickable": false,
           "color": "#1fffc7",
           "positionPairs": [
            [
             [
              1.176733385,
              -1.66415231,
              -2.0381620050000007
             ],
             [
              2.49999987378402e-09,
              -2.4962284649999997,
              -2.0381620075000004
             ]
            ]
           ],
           "radius": null,
           "reference": null,
           "visible": null
          },
          {
           "_meta": null,
           "clickable": false,
           "color": "#1fffc7",
           "positionPairs": [
            [
             [
              1.176733385,
              -1.66415231,
              -2.0381620050000007
             ],
             [
              1.7651000774999999,
              -2.4962284649999997,
              -3.057243007500001
             ]
            ]
           ],
           "radius": null,
           "reference": null,
           "visible": null
          },
          {
           "_meta": null,
           "clickable": false,
           "color": "#1fffc7",
           "positionPairs": [
            [
             [
              1.176733385,
              -1.66415231,
              -2.0381620050000007
             ],
             [
              0.5883666925,
              -0.832076155,
              -1.0190810025000003
             ]
            ]
           ],
           "radius": null,
           "reference": null,
           "visible": null
          },
          {
           "_meta": null,
           "clickable": false,
           "color": "#1fffc7",
           "positionPairs": [
            [
             [
              1.176733385,
              -1.66415231,
              -2.0381620050000007
             ],
             [
              0.5883666925,
              -0.832076155,
              -3.0572430075000003
             ]
            ]
           ],
           "radius": null,
           "reference": null,
           "visible": null
          },
          {
           "_meta": null,
           "clickable": false,
           "color": "#1fffc7",
           "positionPairs": [
            [
             [
              1.176733385,
              -1.66415231,
              -2.0381620050000007
             ],
             [
              1.7651000774999999,
              -2.4962284649999997,
              -1.0190810025000008
             ]
            ]
           ],
           "radius": null,
           "reference": null,
           "visible": null
          },
          {
           "_meta": null,
           "clickable": false,
           "color": "#ffa100",
           "positionPairs": [
            [
             [
              -3.5302001500000006,
              0,
              -6.114486020000001
             ],
             [
              -2.9418334575000005,
              -0.832076155,
              -5.095405017500001
             ]
            ]
           ],
           "radius": null,
           "reference": null,
           "visible": null
          },
          {
           "_meta": null,
           "clickable": false,
           "color": "#ffa100",
           "positionPairs": [
            [
             [
              4.70693353,
              3.3283046199999995,
              9.99999905104687e-09
             ],
             [
              3.5302001475,
              2.4962284649999997,
              7.499999288285153e-09
             ]
            ]
           ],
           "radius": null,
           "reference": null,
           "visible": null
          },
          {
           "_meta": null,
           "clickable": false,
           "color": "#ffa100",
           "positionPairs": [
            [
             [
              -4.706933530000001,
              -3.32830462,
              -1.000000082740371e-08
             ],
             [
              -3.5302001475000004,
              -2.4962284649999997,
              -7.500000620552782e-09
             ]
            ]
           ],
           "radius": null,
           "reference": null,
           "visible": null
          }
         ],
         "name": "bonds",
         "origin": [
          0,
          0,
          0
         ]
        },
        {
         "_meta": null,
         "contents": [
          {
           "_meta": null,
           "clickable": false,
           "color": "#1fffc7",
           "opacity": null,
           "positions": [
            [
             3.5302001499999998,
             0,
             2.0381620099999997
            ],
            [
             -1.1767333800000002,
             -3.32830462,
             2.038162
            ],
            [
             0,
             0,
             0
            ],
            [
             2.35346677,
             -3.32830462,
             -8.881784197001252e-16
            ],
            [
             2.35346677,
             -3.32830462,
             4.07632401
            ],
            [
             0,
             0,
             4.07632401
            ]
           ],
           "reference": null,
           "visible": null
          },
          {
           "_meta": null,
           "clickable": false,
           "color": "#1fffc7",
           "opacity": null,
           "positions": [
            [
             0,
             0,
             -4.07632401
            ],
            [
             -4.706933530000001,
             -3.32830462,
             -4.076324020000001
            ],
            [
             -3.5302001500000006,
             0,
             -6.114486020000001
            ],
            [
             -1.1767333800000002,
             -3.32830462,
             -6.114486020000001
            ],
            [
             -3.5302001500000006,
             0,
             -2.0381620100000006
            ],
            [
             -1.1767333800000002,
             -3.32830462,
             -2.0381620100000006
            ]
           ],
           "reference": null,
           "visible": null
          },
          {
           "_meta": null,
           "clickable": false,
           "color": "#1fffc7",
           "opacity": null,
           "positions": [
            [
             -4.706933530000001,
             -3.32830462,
             -1.000000082740371e-08
            ],
            [
             0,
             0,
             0
            ],
            [
             -3.5302001500000006,
             0,
             2.038162
            ],
            [
             -1.1767333800000002,
             -3.32830462,
             2.038162
            ],
            [
             -3.5302001500000006,
             0,
             -2.0381620100000006
            ],
            [
             -1.1767333800000002,
             -3.32830462,
             -2.0381620100000006
            ]
           ],
           "reference": null,
           "visible": null
          },
          {
           "_meta": null,
           "clickable": false,
           "color": "#1fffc7",
           "opacity": null,
           "positions": [
            [
             1.17673338,
             3.3283046199999995,
             -2.0381620000000007
            ],
            [
             -3.5302001500000006,
             0,
             -2.0381620100000006
            ],
            [
             0,
             0,
             0
            ],
            [
             0,
             0,
             -4.07632401
            ],
            [
             -2.3534667700000007,
             3.3283046199999995,
             -4.076324010000001
            ],
            [
             -2.3534667700000007,
             3.3283046199999995,
             -8.881784197001252e-16
            ]
           ],
           "reference": null,
           "visible": null
          },
          {
           "_meta": null,
           "clickable": false,
           "color": "#1fffc7",
           "opacity": null,
           "positions": [
            [
             -3.5302001500000006,
             0,
             2.038162
            ],
            [
             1.17673338,
             3.3283046199999995,
             2.0381620099999997
            ],
            [
             -2.3534667700000007,
             3.3283046199999995,
             4.07632401
            ],
            [
             0,
             0,
             0
            ],
            [
             -2.3534667700000007,
             3.3283046199999995,
             -8.881784197001252e-16
            ],
            [
             0,
             0,
             4.07632401
            ]
           ],
           "reference": null,
           "visible": null
          },
          {
           "_meta": null,
           "clickable": false,
           "color": "#1fffc7",
           "opacity": null,
           "positions": [
            [
             4.70693353,
             3.3283046199999995,
             4.0763240199999995
            ],
            [
             0,
             0,
             4.07632401
            ],
            [
             3.5302001499999998,
             0,
             2.0381620099999997
            ],
            [
             3.5302001499999998,
             0,
             6.114486020000001
            ],
            [
             1.17673338,
             3.3283046199999995,
             2.0381620099999997
            ],
            [
             1.17673338,
             3.3283046199999995,
             6.114486020000001
            ]
           ],
           "reference": null,
           "visible": null
          },
          {
           "_meta": null,
           "clickable": false,
           "color": "#1fffc7",
           "opacity": null,
           "positions": [
            [
             0,
             0,
             0
            ],
            [
             4.70693353,
             3.3283046199999995,
             9.99999905104687e-09
            ],
            [
             3.5302001499999998,
             0,
             2.0381620099999997
            ],
            [
             3.5302001499999998,
             0,
             -2.0381620000000007
            ],
            [
             1.17673338,
             3.3283046199999995,
             -2.0381620000000007
            ],
            [
             1.17673338,
             3.3283046199999995,
             2.0381620099999997
            ]
           ],
           "reference": null,
           "visible": null
          },
          {
           "_meta": null,
           "clickable": false,
           "color": "#1fffc7",
           "opacity": null,
           "positions": [
            [
             3.5302001499999998,
             0,
             -2.0381620000000007
            ],
            [
             -1.1767333800000002,
             -3.32830462,
             -2.0381620100000006
            ],
            [
             2.35346677,
             -3.32830462,
             -4.076324010000001
            ],
            [
             0,
             0,
             0
            ],
            [
             0,
             0,
             -4.07632401
            ],
            [
             2.35346677,
             -3.32830462,
             -8.881784197001252e-16
            ]
           ],
           "reference": null,
           "visible": null
          }
         ],
         "name": "polyhedra",
         "origin": [
          0,
          0,
          0
         ]
        },
        {
         "_meta": null,
         "contents": [
          {
           "_meta": null,
           "contents": [
            {
             "_meta": null,
             "clickable": false,
             "color": null,
             "dashSize": null,
             "gapSize": null,
             "linewidth": null,
             "positions": [
              [
               -2.3534667650000003,
               -1.66415231,
               -4.076324015000001
              ],
              [
               1.176733385,
               -1.66415231,
               -2.0381620050000007
              ],
              [
               -2.3534667650000003,
               -1.66415231,
               -4.076324015000001
              ],
              [
               -1.1767333850000004,
               1.66415231,
               -2.0381620050000007
              ],
              [
               -2.3534667650000003,
               -1.66415231,
               -4.076324015000001
              ],
              [
               -2.3534667650000003,
               -1.66415231,
               -5.000000413701855e-09
              ],
              [
               1.176733385,
               -1.66415231,
               -2.0381620050000007
              ],
              [
               2.353466765,
               1.66415231,
               4.999999525523435e-09
              ],
              [
               1.176733385,
               -1.66415231,
               -2.0381620050000007
              ],
              [
               1.176733385,
               -1.66415231,
               2.0381620049999998
              ],
              [
               -1.1767333850000004,
               1.66415231,
               -2.0381620050000007
              ],
              [
               2.353466765,
               1.66415231,
               4.999999525523435e-09
              ],
              [
               -1.1767333850000004,
               1.66415231,
               -2.0381620050000007
              ],
              [
               -1.1767333850000004,
               1.66415231,
               2.0381620049999998
              ],
              [
               -2.3534667650000003,
               -1.66415231,
               -5.000000413701855e-09
              ],
              [
               1.176733385,
               -1.66415231,
               2.0381620049999998
              ],
              [
               -2.3534667650000003,
               -1.66415231,
               -5.000000413701855e-09
              ],
              [
               -1.1767333850000004,
               1.66415231,
               2.0381620049999998
              ],
              [
               2.353466765,
               1.66415231,
               4.999999525523435e-09
              ],
              [
               2.353466765,
               1.66415231,
               4.076324015
              ],
              [
               1.176733385,
               -1.66415231,
               2.0381620049999998
              ],
              [
               2.353466765,
               1.66415231,
               4.076324015
              ],
              [
               -1.1767333850000004,
               1.66415231,
               2.0381620049999998
              ],
              [
               2.353466765,
               1.66415231,
               4.076324015
              ]
             ],
             "reference": null,
             "scale": null,
             "visible": null
            }
           ],
           "name": "a=4.076324015343636, b=4.076324014369663, c=4.07632401, alpha=59.999999954309324, beta=59.99999996221318, gamma=60.00000001375741",
           "origin": [
            0,
            0,
            0
           ]
          }
         ],
         "name": "unit_cell",
         "origin": [
          0,
          0,
          0
         ]
        }
       ],
       "name": "DySe",
       "origin": [
        0,
        0,
        0
       ]
      },
      "text/plain": [
       "<IPython.core.display.JSON object>"
      ]
     },
     "metadata": {
      "application/json": {
       "expanded": false,
       "root": "root"
      }
     },
     "output_type": "display_data"
    }
   ],
   "source": [
    "from IPython.display import JSON\n",
    "from json import JSONEncoder, loads\n",
    "class MyEncoder(JSONEncoder):\n",
    "        def default(self, o):\n",
    "            try:\n",
    "                return o.as_dict()\n",
    "            except:\n",
    "                try:\n",
    "                    return o.__dict__\n",
    "                except:\n",
    "                    return str(o)\n",
    "show_json = lambda x : display(JSON(loads(MyEncoder().encode(x))))\n",
    "show_json(ss)"
   ]
  },
  {
   "cell_type": "code",
   "execution_count": 42,
   "metadata": {},
   "outputs": [
    {
     "data": {
      "text/plain": [
       "Convex(positions=[[3.5302001499999998, 0.0, 2.0381620099999997], [-1.1767333800000002, -3.32830462, 2.038162], [0.0, 0.0, 0.0], [2.35346677, -3.32830462, -8.881784197001252e-16], [2.35346677, -3.32830462, 4.07632401], [0.0, 0.0, 4.07632401]], color='#1fffc7', opacity=None, type='convex', visible=None, clickable=False, reference=None, _meta=None)"
      ]
     },
     "execution_count": 42,
     "metadata": {},
     "output_type": "execute_result"
    }
   ],
   "source": [
    "ss.contents[2].contents[0]"
   ]
  },
  {
   "cell_type": "code",
   "execution_count": null,
   "metadata": {},
   "outputs": [],
   "source": []
  }
 ],
 "metadata": {
  "kernelspec": {
   "display_name": "Python 3",
   "language": "python",
   "name": "python3"
  },
  "language_info": {
   "codemirror_mode": {
    "name": "ipython",
    "version": 3
   },
   "file_extension": ".py",
   "mimetype": "text/x-python",
   "name": "python",
   "nbconvert_exporter": "python",
   "pygments_lexer": "ipython3",
   "version": "3.7.3"
  }
 },
 "nbformat": 4,
 "nbformat_minor": 4
}
